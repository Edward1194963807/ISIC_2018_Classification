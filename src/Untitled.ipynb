{
 "cells": [
  {
   "cell_type": "code",
   "execution_count": 1,
   "metadata": {},
   "outputs": [],
   "source": [
    "import numpy as np"
   ]
  },
  {
   "cell_type": "code",
   "execution_count": 2,
   "metadata": {},
   "outputs": [
    {
     "data": {
      "text/plain": [
       "array([[[0, 0, 0],\n",
       "        [3, 3, 3]],\n",
       "\n",
       "       [[6, 6, 6],\n",
       "        [9, 9, 9]]])"
      ]
     },
     "execution_count": 2,
     "metadata": {},
     "output_type": "execute_result"
    }
   ],
   "source": [
    "a=np.array([[[1,2,3],[4,5,6]],\n",
    "            [[7,8,9], [10,11,12]]])\n",
    "b=np.array([1,2,3])\n",
    "a-b"
   ]
  },
  {
   "cell_type": "code",
   "execution_count": 4,
   "metadata": {},
   "outputs": [
    {
     "ename": "SyntaxError",
     "evalue": "invalid syntax (<ipython-input-4-be4ab4f8356c>, line 1)",
     "output_type": "error",
     "traceback": [
      "\u001b[0;36m  File \u001b[0;32m\"<ipython-input-4-be4ab4f8356c>\"\u001b[0;36m, line \u001b[0;32m1\u001b[0m\n\u001b[0;31m    a=[[ 0,  1.  0.  0.  0.  0.  0.]\u001b[0m\n\u001b[0m                  ^\u001b[0m\n\u001b[0;31mSyntaxError\u001b[0m\u001b[0;31m:\u001b[0m invalid syntax\n"
     ]
    }
   ],
   "source": [
    "a=[[ 0,  1.  0.  0.  0.  0.  0.]                      \n",
    " [ 0.  1.  0.  0.  0.  0.  0.]                      \n",
    " [ 0.  1.  0.  0.  0.  0.  0.]                      \n",
    " [ 0.  1.  0.  0.  0.  0.  0.]                      \n",
    " [ 0.  0.  1.  0.  0.  0.  0.]                      \n",
    " [ 0.  0.  1.  0.  0.  0.  0.]                      \n",
    " [ 0.  0.  0.  0.  1.  0.  0.]                      \n",
    " [ 1.  0.  0.  0.  0.  0.  0.]                      \n",
    " [ 0.  1.  0.  0.  0.  0.  0.]                      \n",
    " [ 0.  1.  0.  0.  0.  0.  0.]                      \n",
    " [ 0.  1.  0.  0.  0.  0.  0.]                      \n",
    " [ 0.  1.  0.  0.  0.  0.  0.]                      \n",
    " [ 0.  0.  0.  0.  1.  0.  0.]                      \n",
    " [ 0.  1.  0.  0.  0.  0.  0.]                      \n",
    " [ 0.  1.  0.  0.  0.  0.  0.]                      \n",
    " [ 0.  1.  0.  0.  0.  0.  0.]                      \n",
    " [ 1.  0.  0.  0.  0.  0.  0.]                      \n",
    " [ 0.  1.  0.  0.  0.  0.  0.]                      \n",
    " [ 0.  1.  0.  0.  0.  0.  0.]                      \n",
    " [ 0.  1.  0.  0.  0.  0.  0.]                      \n",
    " [ 0.  0.  0.  0.  1.  0.  0.]                      \n",
    " [ 0.  1.  0.  0.  0.  0.  0.]                      \n",
    " [ 0.  1.  0.  0.  0.  0.  0.]                      \n",
    " [ 0.  1.  0.  0.  0.  0.  0.]                      \n",
    " [ 0.  1.  0.  0.  0.  0.  0.]                      \n",
    " [ 0.  1.  0.  0.  0.  0.  0.]                      \n",
    " [ 0.  1.  0.  0.  0.  0.  0.]                      \n",
    " [ 0.  1.  0.  0.  0.  0.  0.]                      \n",
    " [ 0.  1.  0.  0.  0.  0.  0.]                      \n",
    " [ 0.  1.  0.  0.  0.  0.  0.]                      \n",
    " [ 0.  1.  0.  0.  0.  0.  0.]                      \n",
    " [ 0.  1.  0.  0.  0.  0.  0.]] "
   ]
  },
  {
   "cell_type": "code",
   "execution_count": 16,
   "metadata": {},
   "outputs": [
    {
     "name": "stdout",
     "output_type": "stream",
     "text": [
      "[[ 0.  -0.5 -0.4]\n",
      " [-3.  -2.   0. ]]\n"
     ]
    }
   ],
   "source": [
    "import tensorflow as tf\n",
    "a = [[0.8,0.3,0.4],[3,4,6]]\n",
    "b = [1,0,0]\n",
    "# class_weights = tf.constant([0.3, 0.1, 0.2, 0.3, 0.1])\n",
    "# l = tf.losses.sparse_softmax_cross_entropy(labels=b, logits=a, weights=[0.8,0.1,0.1])\n",
    "a_r = tf.reduce_max(a, axis=1, keep_dims=True)\n",
    "a_m = tf.subtract(a, a_r)\n",
    "with tf.Session() as sess:\n",
    "    sess.run(tf.global_variables_initializer())\n",
    "    m=sess.run(a_r)\n",
    "    print(sess.run(a_m))"
   ]
  },
  {
   "cell_type": "code",
   "execution_count": 23,
   "metadata": {},
   "outputs": [
    {
     "name": "stdout",
     "output_type": "stream",
     "text": [
      "[0.1111333  0.66949576 0.05132302 0.03265102 0.1097354  0.01148278\n",
      " 0.01417873]\n",
      "[0.46181496 0.07665922 1.00000009 1.57186558 0.46769795 4.46956561\n",
      " 3.61971863]\n",
      "[ 6.02425879  1.00000001 13.04474715 20.50458727  6.10100094 58.30434814\n",
      " 47.21831012]\n",
      "58.30434486549694\n"
     ]
    }
   ],
   "source": [
    "weight_sample = np.array([1113,6705,514,327,1099,115,142])/10015\n",
    "print(weight_sample)\n",
    "weight_sample_ = 0.05132302/weight_sample\n",
    "print(weight_sample_)\n",
    "weight_sample__ = 0.66949576/weight_sample\n",
    "print(weight_sample__)\n",
    "print(4.4695656/0.07665922)"
   ]
  },
  {
   "cell_type": "code",
   "execution_count": 32,
   "metadata": {},
   "outputs": [
    {
     "data": {
      "text/plain": [
       "1936"
      ]
     },
     "execution_count": 32,
     "metadata": {},
     "output_type": "execute_result"
    }
   ],
   "source": [
    "2*6*22*22\n",
    "2*2*22*22"
   ]
  },
  {
   "cell_type": "code",
   "execution_count": 36,
   "metadata": {},
   "outputs": [
    {
     "ename": "SyntaxError",
     "evalue": "unexpected EOF while parsing (<ipython-input-36-6cc8038ebd9b>, line 4)",
     "output_type": "error",
     "traceback": [
      "\u001b[0;36m  File \u001b[0;32m\"<ipython-input-36-6cc8038ebd9b>\"\u001b[0;36m, line \u001b[0;32m4\u001b[0m\n\u001b[0;31m    np.tensordot(a, b, axes=([1],[1])\u001b[0m\n\u001b[0m                                     ^\u001b[0m\n\u001b[0;31mSyntaxError\u001b[0m\u001b[0;31m:\u001b[0m unexpected EOF while parsing\n"
     ]
    }
   ],
   "source": [
    "a = np.arange(5808).reshape(2,6,22,22)\n",
    "b = np.arange(1936).reshape(2,2,22,22)\n",
    "c = b\n",
    "np.tensordot(a, b, axes=([1],[1])"
   ]
  },
  {
   "cell_type": "code",
   "execution_count": null,
   "metadata": {},
   "outputs": [],
   "source": []
  }
 ],
 "metadata": {
  "kernelspec": {
   "display_name": "Python 3",
   "language": "python",
   "name": "python3"
  },
  "language_info": {
   "codemirror_mode": {
    "name": "ipython",
    "version": 3
   },
   "file_extension": ".py",
   "mimetype": "text/x-python",
   "name": "python",
   "nbconvert_exporter": "python",
   "pygments_lexer": "ipython3",
   "version": "3.6.4"
  }
 },
 "nbformat": 4,
 "nbformat_minor": 2
}
